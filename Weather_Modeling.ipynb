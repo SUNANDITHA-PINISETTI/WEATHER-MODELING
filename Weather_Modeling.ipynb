{
  "nbformat": 4,
  "nbformat_minor": 0,
  "metadata": {
    "colab": {
      "provenance": [],
      "authorship_tag": "ABX9TyOogZE1pnbtlTpnV/RKt1ux",
      "include_colab_link": true
    },
    "kernelspec": {
      "name": "python3",
      "display_name": "Python 3"
    },
    "language_info": {
      "name": "python"
    }
  },
  "cells": [
    {
      "cell_type": "markdown",
      "metadata": {
        "id": "view-in-github",
        "colab_type": "text"
      },
      "source": [
        "<a href=\"https://colab.research.google.com/github/SUNANDITHA-PINISETTI/WEATHER-MODELING/blob/main/Weather_Modeling.ipynb\" target=\"_parent\"><img src=\"https://colab.research.google.com/assets/colab-badge.svg\" alt=\"Open In Colab\"/></a>"
      ]
    },
    {
      "cell_type": "code",
      "execution_count": 9,
      "metadata": {
        "colab": {
          "base_uri": "https://localhost:8080/"
        },
        "id": "A3pFWsAV0h8I",
        "outputId": "d368fb1f-ee9b-4214-b015-ed41b47cc7ac"
      },
      "outputs": [
        {
          "output_type": "stream",
          "name": "stdout",
          "text": [
            "Enter temperature: 30\n",
            "Enter humidity: 50\n",
            "Enter wind: 10\n",
            "Temperature: 30.0, Humidity: 50.0, Wind: 10.0\n",
            "Predicted Weather: Sunny\n"
          ]
        }
      ],
      "source": [
        "import random\n",
        "weather_conditions = [\"Sunny\", \"Rainy\", \"Windy\", \"Stormy\"]\n",
        "\n",
        "\n",
        "temperature = float(input(\"Enter temperature: \"))\n",
        "humidity = float(input(\"Enter humidity: \"))\n",
        "wind = float(input(\"Enter wind: \"))\n",
        "\n",
        "\n",
        "def predict_weather(temp, humid, wind):\n",
        "\n",
        "    score = 0.5 * temp**2 - 0.2 * humid + 0.1 * wind - 15\n",
        "\n",
        "\n",
        "    if score > 50:\n",
        "        return \"Sunny\"\n",
        "    elif score > 30:\n",
        "        return \"Rainy\"\n",
        "    elif score > 10:\n",
        "        return \"Windy\"\n",
        "    else:\n",
        "        return \"Stormy\"\n",
        "\n",
        "\n",
        "predicted_weather = predict_weather(temperature, humidity, wind)\n",
        "\n",
        "print(f\"Temperature: {temperature}, Humidity: {humidity}, Wind: {wind}\")\n",
        "print(f\"Predicted Weather: {predicted_weather}\")"
      ]
    }
  ]
}