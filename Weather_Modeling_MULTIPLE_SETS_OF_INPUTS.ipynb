{
  "nbformat": 4,
  "nbformat_minor": 0,
  "metadata": {
    "colab": {
      "provenance": [],
      "authorship_tag": "ABX9TyMt4arbP0EzCTeuO5ajKISZ",
      "include_colab_link": true
    },
    "kernelspec": {
      "name": "python3",
      "display_name": "Python 3"
    },
    "language_info": {
      "name": "python"
    }
  },
  "cells": [
    {
      "cell_type": "markdown",
      "metadata": {
        "id": "view-in-github",
        "colab_type": "text"
      },
      "source": [
        "<a href=\"https://colab.research.google.com/github/SUNANDITHA-PINISETTI/WEATHER-MODELING/blob/main/Weather_Modeling_MULTIPLE_SETS_OF_INPUTS.ipynb\" target=\"_parent\"><img src=\"https://colab.research.google.com/assets/colab-badge.svg\" alt=\"Open In Colab\"/></a>"
      ]
    },
    {
      "cell_type": "code",
      "execution_count": 1,
      "metadata": {
        "colab": {
          "base_uri": "https://localhost:8080/"
        },
        "id": "-3D4JBwWDBeg",
        "outputId": "85bd4ed1-888b-444a-94f6-3f6baf97eecb"
      },
      "outputs": [
        {
          "output_type": "stream",
          "name": "stdout",
          "text": [
            "Temperature: 30, Humidity: 50, Wind: 10, Weather Condition: Sunny\n",
            "Temperature: 25, Humidity: 60, Wind: 15, Weather Condition: Sunny\n",
            "Temperature: 20, Humidity: 70, Wind: 20, Weather Condition: Sunny\n"
          ]
        }
      ],
      "source": [
        "import math\n",
        "\n",
        "def calculate_weather(temperature, humidity, wind, a, b, c, d):\n",
        "    score = a * temperature**2 + b * humidity + c * wind + d\n",
        "    if score > 50:\n",
        "        return \"Sunny\"\n",
        "    elif score > 30:\n",
        "        return \"Rainy\"\n",
        "    elif score > 10:\n",
        "        return \"Windy\"\n",
        "    else:\n",
        "        return \"Stormy\"\n",
        "\n",
        "input_values = [\n",
        "    (30, 50, 10),\n",
        "    (25, 60, 15),\n",
        "    (20, 70, 20)\n",
        "]\n",
        "\n",
        "\n",
        "a = 0.5\n",
        "b = -0.2\n",
        "c = 0.1\n",
        "d = -15\n",
        "\n",
        "for temperature, humidity, wind in input_values:\n",
        "    weather_condition = calculate_weather(temperature, humidity, wind, a, b, c, d)\n",
        "    print(f\"Temperature: {temperature}, Humidity: {humidity}, Wind: {wind}, Weather Condition: {weather_condition}\")"
      ]
    }
  ]
}