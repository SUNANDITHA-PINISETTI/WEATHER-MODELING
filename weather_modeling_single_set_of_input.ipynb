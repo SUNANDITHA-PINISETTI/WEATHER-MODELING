{
  "nbformat": 4,
  "nbformat_minor": 0,
  "metadata": {
    "colab": {
      "provenance": [],
      "authorship_tag": "ABX9TyPRdkAY/DtI9Ny86I5M1xe1",
      "include_colab_link": true
    },
    "kernelspec": {
      "name": "python3",
      "display_name": "Python 3"
    },
    "language_info": {
      "name": "python"
    }
  },
  "cells": [
    {
      "cell_type": "markdown",
      "metadata": {
        "id": "view-in-github",
        "colab_type": "text"
      },
      "source": [
        "<a href=\"https://colab.research.google.com/github/SUNANDITHA-PINISETTI/WEATHER-MODELING/blob/main/weather_modeling_single_set_of_input.ipynb\" target=\"_parent\"><img src=\"https://colab.research.google.com/assets/colab-badge.svg\" alt=\"Open In Colab\"/></a>"
      ]
    },
    {
      "cell_type": "code",
      "execution_count": 1,
      "metadata": {
        "colab": {
          "base_uri": "https://localhost:8080/"
        },
        "id": "UhZnUWeDBmMa",
        "outputId": "5a44b5c4-0366-482f-bb0d-be33c73b05b4"
      },
      "outputs": [
        {
          "output_type": "stream",
          "name": "stdout",
          "text": [
            "Weather Condition: Sunny\n"
          ]
        }
      ],
      "source": [
        "import math\n",
        "\n",
        "def calculate_weather(temperature, humidity, wind, a, b, c, d):\n",
        "    score = a * temperature**2 + b * humidity + c * wind + d\n",
        "    if score > 50:\n",
        "        return \"Sunny\"\n",
        "    elif score > 30:\n",
        "        return \"Rainy\"\n",
        "    elif score > 10:\n",
        "        return \"Windy\"\n",
        "    else:\n",
        "        return \"Stormy\"\n",
        "\n",
        "\n",
        "temperature = 30\n",
        "humidity = 50\n",
        "wind = 10\n",
        "\n",
        "\n",
        "a = 0.5\n",
        "b = -0.2\n",
        "c = 0.1\n",
        "d = -15\n",
        "\n",
        "\n",
        "weather_condition = calculate_weather(temperature, humidity, wind, a, b, c, d)\n",
        "\n",
        "print(f\"Weather Condition: {weather_condition}\")"
      ]
    }
  ]
}